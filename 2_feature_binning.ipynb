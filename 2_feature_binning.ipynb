{
 "cells": [
  {
   "cell_type": "markdown",
   "id": "e1824dcd",
   "metadata": {},
   "source": [
    "#### 01. Import Dependencies"
   ]
  },
  {
   "cell_type": "markdown",
   "id": "a3e352eb",
   "metadata": {},
   "source": [
    "How Binning Helps?\n",
    "\n",
    "1. Non-linear relationship with target\n",
    "- Binning can help capture non-linear patterns that a linear model might miss\n",
    "\n",
    "2. Skewed distribution \n",
    "- Binning can smooth out skew and reduce the effect of extreme values\n",
    "\n",
    "3. Interpretability is key\n",
    "- Easier for business users to understand \"age 18–25\" than \"age = 23\"\n",
    "\n",
    "4. Model is prone to overfitting\n",
    "- Binning reduces granularity → fewer splits → less overfitting\n",
    "\n",
    "5. Need to reduce cardinality\n",
    "- Helps when a numeric column has too many unique values\n",
    "\n",
    "6. Sparse or noisy data\n",
    "- Binning can group rare or noisy values to improve signal strength"
   ]
  },
  {
   "cell_type": "markdown",
   "id": "2d37c29f",
   "metadata": {},
   "source": [
    "data/processed/ChurnModelling_Outliers_Handled.csv"
   ]
  }
 ],
 "metadata": {
  "kernelspec": {
   "display_name": "sahas",
   "language": "python",
   "name": "python3"
  },
  "language_info": {
   "name": "python",
   "version": "3.12.12"
  }
 },
 "nbformat": 4,
 "nbformat_minor": 5
}
