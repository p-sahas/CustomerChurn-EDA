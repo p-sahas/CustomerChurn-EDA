{
 "cells": [
  {
   "cell_type": "markdown",
   "id": "15d515c9",
   "metadata": {},
   "source": [
    "#### 01. Import Dependencies"
   ]
  },
  {
   "cell_type": "code",
   "execution_count": 1,
   "id": "d8cb6f95",
   "metadata": {},
   "outputs": [],
   "source": [
    "import os\n",
    "import numpy as numpy\n",
    "import pandas as pd\n",
    "import seaborn as sns\n",
    "import matplotlib.pyplot as plt "
   ]
  },
  {
   "cell_type": "markdown",
   "id": "bd21352c",
   "metadata": {},
   "source": [
    "| Variable Type | Preferred Encoding | Why? |\n",
    "|--------------|-------------------|------|\n",
    "| Nominal | One-Hot Encoding | No inherent order → avoids implying false ordinal relationships |\n",
    "| Ordinal | Label Encoding | Preserves order → small integers represent increasing levels |"
   ]
  },
  {
   "cell_type": "markdown",
   "id": "6a04b1ed",
   "metadata": {},
   "source": [
    "Gender <**Male**, **Female**>\n",
    "\n",
    "|  | Gender_Male | Gender_Female |\n",
    "|--------------|-------------------|------|\n",
    "| Male | 1 | 0 |\n",
    "| Female | 0 | 1 |\n",
    "\n",
    "\n",
    "(Assume Gender is Ordinal);\n",
    "    Male -> 1\n",
    "    Female -> 0"
   ]
  },
  {
   "cell_type": "markdown",
   "id": "0771f76d",
   "metadata": {},
   "source": [
    "Gender -> Nominal </br>\n",
    "Geography -> Nominal </br>\n",
    "CreditScoreBins -> Ordinal </br>"
   ]
  },
  {
   "cell_type": "code",
   "execution_count": 3,
   "id": "1ecd6181",
   "metadata": {},
   "outputs": [
    {
     "data": {
      "text/html": [
       "<div>\n",
       "<style scoped>\n",
       "    .dataframe tbody tr th:only-of-type {\n",
       "        vertical-align: middle;\n",
       "    }\n",
       "\n",
       "    .dataframe tbody tr th {\n",
       "        vertical-align: top;\n",
       "    }\n",
       "\n",
       "    .dataframe thead th {\n",
       "        text-align: right;\n",
       "    }\n",
       "</style>\n",
       "<table border=\"1\" class=\"dataframe\">\n",
       "  <thead>\n",
       "    <tr style=\"text-align: right;\">\n",
       "      <th></th>\n",
       "      <th>Geography</th>\n",
       "      <th>Gender</th>\n",
       "      <th>Age</th>\n",
       "      <th>Tenure</th>\n",
       "      <th>Balance</th>\n",
       "      <th>NumOfProducts</th>\n",
       "      <th>HasCrCard</th>\n",
       "      <th>IsActiveMember</th>\n",
       "      <th>EstimatedSalary</th>\n",
       "      <th>Exited</th>\n",
       "      <th>CreditScoreBins</th>\n",
       "    </tr>\n",
       "  </thead>\n",
       "  <tbody>\n",
       "    <tr>\n",
       "      <th>0</th>\n",
       "      <td>France</td>\n",
       "      <td>Female</td>\n",
       "      <td>42.00</td>\n",
       "      <td>2</td>\n",
       "      <td>0.00</td>\n",
       "      <td>1</td>\n",
       "      <td>1</td>\n",
       "      <td>1</td>\n",
       "      <td>101348.88</td>\n",
       "      <td>1</td>\n",
       "      <td>Fair</td>\n",
       "    </tr>\n",
       "    <tr>\n",
       "      <th>1</th>\n",
       "      <td>Spain</td>\n",
       "      <td>Female</td>\n",
       "      <td>41.00</td>\n",
       "      <td>1</td>\n",
       "      <td>83807.86</td>\n",
       "      <td>1</td>\n",
       "      <td>0</td>\n",
       "      <td>1</td>\n",
       "      <td>112542.58</td>\n",
       "      <td>0</td>\n",
       "      <td>Fair</td>\n",
       "    </tr>\n",
       "    <tr>\n",
       "      <th>2</th>\n",
       "      <td>France</td>\n",
       "      <td>Female</td>\n",
       "      <td>42.00</td>\n",
       "      <td>8</td>\n",
       "      <td>159660.80</td>\n",
       "      <td>3</td>\n",
       "      <td>1</td>\n",
       "      <td>0</td>\n",
       "      <td>113931.57</td>\n",
       "      <td>1</td>\n",
       "      <td>Poor</td>\n",
       "    </tr>\n",
       "    <tr>\n",
       "      <th>3</th>\n",
       "      <td>France</td>\n",
       "      <td>Female</td>\n",
       "      <td>38.91</td>\n",
       "      <td>1</td>\n",
       "      <td>0.00</td>\n",
       "      <td>2</td>\n",
       "      <td>0</td>\n",
       "      <td>0</td>\n",
       "      <td>93826.63</td>\n",
       "      <td>0</td>\n",
       "      <td>Good</td>\n",
       "    </tr>\n",
       "    <tr>\n",
       "      <th>4</th>\n",
       "      <td>Spain</td>\n",
       "      <td>Female</td>\n",
       "      <td>43.00</td>\n",
       "      <td>2</td>\n",
       "      <td>125510.82</td>\n",
       "      <td>1</td>\n",
       "      <td>1</td>\n",
       "      <td>1</td>\n",
       "      <td>79084.10</td>\n",
       "      <td>0</td>\n",
       "      <td>Excellent</td>\n",
       "    </tr>\n",
       "  </tbody>\n",
       "</table>\n",
       "</div>"
      ],
      "text/plain": [
       "  Geography  Gender    Age  Tenure    Balance  NumOfProducts  HasCrCard  \\\n",
       "0    France  Female  42.00       2       0.00              1          1   \n",
       "1     Spain  Female  41.00       1   83807.86              1          0   \n",
       "2    France  Female  42.00       8  159660.80              3          1   \n",
       "3    France  Female  38.91       1       0.00              2          0   \n",
       "4     Spain  Female  43.00       2  125510.82              1          1   \n",
       "\n",
       "   IsActiveMember  EstimatedSalary  Exited CreditScoreBins  \n",
       "0               1        101348.88       1            Fair  \n",
       "1               1        112542.58       0            Fair  \n",
       "2               0        113931.57       1            Poor  \n",
       "3               0         93826.63       0            Good  \n",
       "4               1         79084.10       0       Excellent  "
      ]
     },
     "execution_count": 3,
     "metadata": {},
     "output_type": "execute_result"
    }
   ],
   "source": [
    "df = pd.read_csv('data/processed/ChurnModelling_Binning_Applied.csv')\n",
    "df.head()"
   ]
  },
  {
   "cell_type": "markdown",
   "id": "518018e8",
   "metadata": {},
   "source": [
    "#### 02. Encode Ordinal Variables"
   ]
  },
  {
   "cell_type": "code",
   "execution_count": null,
   "id": "0a61058d",
   "metadata": {},
   "outputs": [],
   "source": []
  },
  {
   "cell_type": "code",
   "execution_count": null,
   "id": "bdb46f3f",
   "metadata": {},
   "outputs": [],
   "source": []
  }
 ],
 "metadata": {
  "kernelspec": {
   "display_name": "sahas",
   "language": "python",
   "name": "python3"
  },
  "language_info": {
   "codemirror_mode": {
    "name": "ipython",
    "version": 3
   },
   "file_extension": ".py",
   "mimetype": "text/x-python",
   "name": "python",
   "nbconvert_exporter": "python",
   "pygments_lexer": "ipython3",
   "version": "3.12.12"
  }
 },
 "nbformat": 4,
 "nbformat_minor": 5
}
